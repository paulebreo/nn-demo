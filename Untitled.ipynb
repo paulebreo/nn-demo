{
 "cells": [
  {
   "cell_type": "markdown",
   "id": "comfortable-tuition",
   "metadata": {},
   "source": [
    "## Neural Network from Scratch"
   ]
  },
  {
   "cell_type": "markdown",
   "id": "settled-cornwall",
   "metadata": {},
   "source": [
    "We want to learn a basic neurl network. For this example, we wil follow sentdex's example. zzzzzyou can find the course here:\n",
    "\n",
    "https://www.youtube.com/playlist?list=PLQVvvaa0QuDcjD5BAw2DxE6OF2tius3V3"
   ]
  },
  {
   "cell_type": "markdown",
   "id": "offensive-heating",
   "metadata": {},
   "source": [
    "![title](img/tab1.png)"
   ]
  },
  {
   "cell_type": "code",
   "execution_count": 3,
   "id": "surprising-headset",
   "metadata": {},
   "outputs": [
    {
     "name": "stdout",
     "output_type": "stream",
     "text": [
      "[6, 13, 20]\n"
     ]
    }
   ],
   "source": [
    "# basic\n",
    "inputs =[1,2,3]\n",
    "\n",
    "weights1=[1,1,1]\n",
    "weights2=[2,2,2]\n",
    "weights3=[3,3,3]\n",
    "\n",
    "bias1= 0\n",
    "bias2= 1\n",
    "bias3= 2\n",
    "\n",
    "output=[\n",
    "     inputs[0]*weights1[0]+ inputs[1]*weights1[1]+ inputs[2]*weights1[2]+ bias1,\n",
    "     inputs[0]*weights2[0]+ inputs[1]*weights2[1]+ inputs[2]*weights2[1]+ bias2,\n",
    "     inputs[0]*weights3[0]+ inputs[1]*weights3[1]+ inputs[2]*weights3[2]+ bias3\n",
    "]\n",
    "print(output)\n"
   ]
  },
  {
   "cell_type": "code",
   "execution_count": null,
   "id": "diagnostic-bleeding",
   "metadata": {},
   "outputs": [],
   "source": []
  }
 ],
 "metadata": {
  "kernelspec": {
   "display_name": "Python 3",
   "language": "python",
   "name": "python3"
  },
  "language_info": {
   "codemirror_mode": {
    "name": "ipython",
    "version": 3
   },
   "file_extension": ".py",
   "mimetype": "text/x-python",
   "name": "python",
   "nbconvert_exporter": "python",
   "pygments_lexer": "ipython3",
   "version": "3.8.7"
  }
 },
 "nbformat": 4,
 "nbformat_minor": 5
}
