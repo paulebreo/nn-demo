{
 "cells": [
  {
   "cell_type": "markdown",
   "id": "comfortable-tuition",
   "metadata": {},
   "source": [
    "## Neural Network from Scratch"
   ]
  },
  {
   "cell_type": "markdown",
   "id": "settled-cornwall",
   "metadata": {},
   "source": [
    "We want to learn a basic neurl network. For this example, we wil follow sentdex's example. zzzzzyou can find the course here:\n",
    "\n",
    "https://www.youtube.com/playlist?list=PLQVvvaa0QuDcjD5BAw2DxE6OF2tius3V3"
   ]
  },
  {
   "cell_type": "code",
   "execution_count": null,
   "id": "surprising-headset",
   "metadata": {},
   "outputs": [],
   "source": []
  }
 ],
 "metadata": {
  "kernelspec": {
   "display_name": "Python 3",
   "language": "python",
   "name": "python3"
  },
  "language_info": {
   "codemirror_mode": {
    "name": "ipython",
    "version": 3
   },
   "file_extension": ".py",
   "mimetype": "text/x-python",
   "name": "python",
   "nbconvert_exporter": "python",
   "pygments_lexer": "ipython3",
   "version": "3.8.7"
  }
 },
 "nbformat": 4,
 "nbformat_minor": 5
}
